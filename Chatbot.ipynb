{
 "cells": [
  {
   "cell_type": "code",
   "execution_count": 25,
   "id": "b4308903-a315-45fd-8b20-a95e1b23ba6b",
   "metadata": {},
   "outputs": [],
   "source": [
    "import sqlite3\n",
    "import re"
   ]
  },
  {
   "cell_type": "code",
   "execution_count": 26,
   "id": "001d3c36-2849-4d97-87ab-ec2e25ab4e51",
   "metadata": {},
   "outputs": [],
   "source": [
    "conn = sqlite3.connect('chatbot.db')\n",
    "c = conn.cursor()"
   ]
  },
  {
   "cell_type": "code",
   "execution_count": 27,
   "id": "b250a306-1ae8-4c2c-a88b-916cb4362406",
   "metadata": {},
   "outputs": [],
   "source": [
    "_ = c.execute('''\n",
    "CREATE TABLE IF NOT EXISTS responses (\n",
    "    id INTEGER PRIMARY KEY AUTOINCREMENT,\n",
    "    question TEXT NOT NULL,\n",
    "    response TEXT NOT NULL\n",
    ")\n",
    "''')"
   ]
  },
  {
   "cell_type": "code",
   "execution_count": 28,
   "id": "68e57535-1a7f-4946-8b64-283810100aad",
   "metadata": {},
   "outputs": [],
   "source": [
    "responses = [\n",
    "    ('hello|hi|hey', 'Hello! How can I assist you today?'),\n",
    "    ('how are you', 'I\\'m just a bot, but I\\'m doing great! How about you?'),\n",
    "    ('what is your name', 'I am a simple rule-based chatbot created to assist you.'),\n",
    "    ('thank you|thanks', 'You\\'re welcome! If you have any other questions, feel free to ask.'),\n",
    "    ('bye|goodbye', 'Goodbye! Have a great day!'),\n",
    "    ('what can you do', 'I can assist you with simple queries and provide basic information.'),\n",
    "    ('what is the weather', 'I can help with general weather information.'),\n",
    "    ('what time is it', 'I can provide you with the current time if you enable location access.'),\n",
    "    ('how can I contact support', 'You can contact support via email at support@example.com.'),\n",
    "    ('who is the team leader', 'The team leader is the person responsible for guiding and managing the team.'),\n",
    "    ('what is your favorite color', 'I don\\'t have preferences, but I can help you with information about colors.'),\n",
    "    ('how can I reset my password', 'You can reset your password by following the instructions in the \"Forgot Password\" section of the login page.'),\n",
    "    ('where is the nearest store', 'I can help you find the nearest store if you enable location services.'),\n",
    "    ('what are your operating hours', 'Our operating hours are from 9 AM to 5 PM, Monday to Friday.'),\n",
    "    ('how can I subscribe to the newsletter', 'You can subscribe to our newsletter by entering your email on the subscription page.'),\n",
    "    ('how do I update my profile', 'You can update your profile by logging into your account and going to the profile settings section.'),\n",
    "    ('what languages do you support', 'I support both English and Arabic.'),\n",
    "    ('how do I provide feedback', 'You can provide feedback by filling out the feedback form on our website.')]"
   ]
  },
  {
   "cell_type": "code",
   "execution_count": 29,
   "id": "100da7d5-8074-495b-94c1-d2d1d8097595",
   "metadata": {},
   "outputs": [],
   "source": [
    "c.executemany('INSERT INTO responses (question, response) VALUES (?, ?)', responses)\n",
    "conn.commit()\n",
    "conn.close()"
   ]
  },
  {
   "cell_type": "code",
   "execution_count": 30,
   "id": "96ee3d45-6184-4e4f-949b-8be44ca6729c",
   "metadata": {},
   "outputs": [],
   "source": [
    "def get_response_from_db(user_input):\n",
    "    conn = sqlite3.connect('chatbot.db')\n",
    "    c = conn.cursor()\n",
    "    c.execute('SELECT question, response FROM responses')\n",
    "    rows = c.fetchall()\n",
    "    for row in rows:\n",
    "        question, response = row\n",
    "        if re.search(question, user_input):\n",
    "            conn.close()\n",
    "            return response\n",
    "    conn.close()\n",
    "    return \"I'm sorry, I didn't understand that. Can you please rephrase?\""
   ]
  },
  {
   "cell_type": "code",
   "execution_count": 32,
   "id": "6028f62c-f882-4a0c-8db5-966788fac497",
   "metadata": {},
   "outputs": [
    {
     "name": "stdin",
     "output_type": "stream",
     "text": [
      "You:  hi!\n"
     ]
    },
    {
     "name": "stdout",
     "output_type": "stream",
     "text": [
      "Chatbot: Hello! How can I assist you today?\n"
     ]
    },
    {
     "name": "stdin",
     "output_type": "stream",
     "text": [
      "You:  what is the weather\n"
     ]
    },
    {
     "name": "stdout",
     "output_type": "stream",
     "text": [
      "Chatbot: I can help with general weather information.\n"
     ]
    },
    {
     "name": "stdin",
     "output_type": "stream",
     "text": [
      "You:  who is a leader\n"
     ]
    },
    {
     "name": "stdout",
     "output_type": "stream",
     "text": [
      "Chatbot: I'm sorry, I didn't understand that. Can you please rephrase?\n"
     ]
    },
    {
     "name": "stdin",
     "output_type": "stream",
     "text": [
      "You:  what is a leader\n"
     ]
    },
    {
     "name": "stdout",
     "output_type": "stream",
     "text": [
      "Chatbot: I'm sorry, I didn't understand that. Can you please rephrase?\n"
     ]
    },
    {
     "name": "stdin",
     "output_type": "stream",
     "text": [
      "You:  bye\n"
     ]
    },
    {
     "name": "stdout",
     "output_type": "stream",
     "text": [
      "Chatbot: Goodbye! Have a great day!\n"
     ]
    }
   ],
   "source": [
    "while True:\n",
    "    user_input = input(\"You: \").lower()\n",
    "    if user_input in [\"bye\", \"goodbye\", 'end', 'over']:\n",
    "        print(\"Chatbot: Goodbye! Have a great day!\")\n",
    "        break\n",
    "    else:\n",
    "        response = get_response_from_db(user_input)\n",
    "        print(\"Chatbot:\", response)"
   ]
  },
  {
   "cell_type": "code",
   "execution_count": null,
   "id": "6080b1da-b9ae-42e1-939d-fb73f63ea0ab",
   "metadata": {},
   "outputs": [],
   "source": []
  }
 ],
 "metadata": {
  "kernelspec": {
   "display_name": "Python 3 (ipykernel)",
   "language": "python",
   "name": "python3"
  },
  "language_info": {
   "codemirror_mode": {
    "name": "ipython",
    "version": 3
   },
   "file_extension": ".py",
   "mimetype": "text/x-python",
   "name": "python",
   "nbconvert_exporter": "python",
   "pygments_lexer": "ipython3",
   "version": "3.12.5"
  }
 },
 "nbformat": 4,
 "nbformat_minor": 5
}
